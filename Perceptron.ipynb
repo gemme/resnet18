{
  "nbformat": 4,
  "nbformat_minor": 0,
  "metadata": {
    "colab": {
      "provenance": [],
      "authorship_tag": "ABX9TyM9SGlma1EQ8NZ1B1tnoK1g",
      "include_colab_link": true
    },
    "kernelspec": {
      "name": "python3",
      "display_name": "Python 3"
    },
    "language_info": {
      "name": "python"
    }
  },
  "cells": [
    {
      "cell_type": "markdown",
      "metadata": {
        "id": "view-in-github",
        "colab_type": "text"
      },
      "source": [
        "<a href=\"https://colab.research.google.com/github/gemme/resnet18/blob/main/Perceptron.ipynb\" target=\"_parent\"><img src=\"https://colab.research.google.com/assets/colab-badge.svg\" alt=\"Open In Colab\"/></a>"
      ]
    },
    {
      "cell_type": "code",
      "execution_count": 2,
      "metadata": {
        "id": "0xaX8kdROTCi"
      },
      "outputs": [],
      "source": [
        "\n",
        "import numpy as np\n",
        "import matplotlib.pyplot as plt\n",
        "     "
      ]
    },
    {
      "cell_type": "code",
      "source": [
        "class Perceptron:\n",
        "\n",
        "  def __init__(self, n_inputs, learning_rate):\n",
        "    self.w = - 1 + 2 * np.random.rand(n_inputs)\n",
        "    self.b = - 1 + 2 * np.random.rand()\n",
        "    self.eta = learning_rate\n",
        "\n",
        "  def predict(self, X):\n",
        "    _, p = X.shape\n",
        "    y_est = np.zeros(p)\n",
        "    for i in range(p):\n",
        "      y_est[i] = np.dot(self.w, X[:,i])+self.b\n",
        "      if y_est[i] >= 0:\n",
        "        y_est[i]=1\n",
        "      else:\n",
        "        y_est[i]=0\n",
        "    return y_est\n",
        "\n",
        "  def fit(self, X, Y, epochs=50):\n",
        "    _, p = X.shape\n",
        "    for _ in range(epochs):\n",
        "      for i in range(p):\n",
        "        y_est = self.predict(X[:,i].reshape(-1,1))\n",
        "        self.w += self.eta * (Y[i]-y_est) * X[:,i]\n",
        "        self.b += self.eta * (Y[i]-y_est)\n",
        "\n",
        "def draw_2d_percep(model):\n",
        "  w1, w2, b = model.w[0], model.w[1], model.b \n",
        "  plt.plot([-2, 2],[(1/w2)*(-w1*(-2)-b),(1/w2)*(-w1*2-b)],'--k')"
      ],
      "metadata": {
        "id": "D108dWE8Oifj"
      },
      "execution_count": 3,
      "outputs": []
    },
    {
      "cell_type": "code",
      "source": [
        "# Instanciar el modelo\n",
        "model = Perceptron(2, 0.1)\n",
        "\n",
        "# Datos\n",
        "X = np.array([[0, 0, 1, 1],\n",
        "              [0, 1, 0, 1]])\n",
        "Y = np.array([0, 0, 0, 1])\n",
        "\n",
        "# Entrenar\n",
        "model.fit(X,Y)\n",
        "\n",
        "# Predicción\n",
        "model.predict(X)\n",
        "\n",
        "# Primero dibujemos los puntos\n",
        "_, p = X.shape\n",
        "for i in range(p):\n",
        "  if Y[i] == 0:\n",
        "    plt.plot(X[0,i],X[1,i], 'or')\n",
        "  else:\n",
        "    plt.plot(X[0,i],X[1,i], 'ob')\n",
        "\n",
        "plt.title('Perceptrón AND')\n",
        "plt.grid('on')\n",
        "plt.xlim([-2,2])\n",
        "plt.ylim([-2,2])\n",
        "plt.xlabel(r'')\n",
        "plt.ylabel(r'')\n",
        "\n",
        "draw_2d_percep(model)"
      ],
      "metadata": {
        "colab": {
          "base_uri": "https://localhost:8080/",
          "height": 281
        },
        "id": "2MZTjNT5Oj1Z",
        "outputId": "600a7e5a-30cd-4409-bf9e-a89abac92926"
      },
      "execution_count": 5,
      "outputs": [
        {
          "output_type": "display_data",
          "data": {
            "text/plain": [
              "<Figure size 432x288 with 1 Axes>"
            ],
            "image/png": "[encoded data removed]"
          },
          "metadata": {
            "needs_background": "light"
          }
        }
      ]
    },
    {
      "cell_type": "code",
      "source": [
        "# Instanciar el modelo\n",
        "model = Perceptron(2, 0.1)\n",
        "\n",
        "# Datos\n",
        "X = np.array([[0, 0, 1, 1],\n",
        "              [0, 1, 0, 1]])\n",
        "Y = np.array([0, 1, 1, 1])\n",
        "\n",
        "# Entrenar\n",
        "model.fit(X,Y)\n",
        "\n",
        "# Predicción\n",
        "model.predict(X)\n",
        "\n",
        "# Primero dibujemos los puntos\n",
        "_, p = X.shape\n",
        "for i in range(p):\n",
        "  if Y[i] == 0:\n",
        "    plt.plot(X[0,i],X[1,i], 'or')\n",
        "  else:\n",
        "    plt.plot(X[0,i],X[1,i], 'ob')\n",
        "\n",
        "plt.title('Perceptrón OR')\n",
        "plt.grid('on')\n",
        "plt.xlim([-2,2])\n",
        "plt.ylim([-2,2])\n",
        "plt.xlabel(r'')\n",
        "plt.ylabel(r'')\n",
        "\n",
        "draw_2d_percep(model)"
      ],
      "metadata": {
        "colab": {
          "base_uri": "https://localhost:8080/",
          "height": 281
        },
        "id": "FIDOYdLKPLId",
        "outputId": "616b9dad-001a-4874-e344-7e49566df83e"
      },
      "execution_count": 6,
      "outputs": [
        {
          "output_type": "display_data",
          "data": {
            "text/plain": [
              "<Figure size 432x288 with 1 Axes>"
            ],
            "image/png": "[encoded data removed]"
          },
          "metadata": {
            "needs_background": "light"
          }
        }
      ]
    },
    {
      "cell_type": "code",
      "source": [
        "# Instanciar el modelo\n",
        "model = Perceptron(2, 0.1)\n",
        "\n",
        "# Datos\n",
        "X = np.array([[0, 0, 1, 1],\n",
        "              [0, 1, 0, 1]])\n",
        "Y = np.array([0, 1, 1, 0])\n",
        "\n",
        "# Entrenar\n",
        "model.fit(X,Y)\n",
        "\n",
        "# Predicción\n",
        "model.predict(X)\n",
        "\n",
        "# Primero dibujemos los puntos\n",
        "_, p = X.shape\n",
        "for i in range(p):\n",
        "  if Y[i] == 0:\n",
        "    plt.plot(X[0,i],X[1,i], 'or')\n",
        "  else:\n",
        "    plt.plot(X[0,i],X[1,i], 'ob')\n",
        "\n",
        "plt.title('Perceptrón XOR')\n",
        "plt.grid('on')\n",
        "plt.xlim([-2,2])\n",
        "plt.ylim([-2,2])\n",
        "plt.xlabel(r'')\n",
        "plt.ylabel(r'')\n",
        "\n",
        "draw_2d_percep(model)"
      ],
      "metadata": {
        "colab": {
          "base_uri": "https://localhost:8080/",
          "height": 281
        },
        "id": "QjfVkqqjPljS",
        "outputId": "ab04737c-9f37-4973-d058-11beb8f76b3e"
      },
      "execution_count": 7,
      "outputs": [
        {
          "output_type": "display_data",
          "data": {
            "text/plain": [
              "<Figure size 432x288 with 1 Axes>"
            ],
            "image/png": "[encoded data removed]"
          },
          "metadata": {
            "needs_background": "light"
          }
        }
      ]
    }
  ]
}