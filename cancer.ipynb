{
  "nbformat": 4,
  "nbformat_minor": 0,
  "metadata": {
    "colab": {
      "provenance": [],
      "authorship_tag": "ABX9TyNExrx0KMuI4CEO8LMaGz64",
      "include_colab_link": true
    },
    "kernelspec": {
      "name": "python3",
      "display_name": "Python 3"
    },
    "language_info": {
      "name": "python"
    }
  },
  "cells": [
    {
      "cell_type": "markdown",
      "metadata": {
        "id": "view-in-github",
        "colab_type": "text"
      },
      "source": [
        "<a href=\"https://colab.research.google.com/github/gemme/resnet18/blob/main/cancer.ipynb\" target=\"_parent\"><img src=\"https://colab.research.google.com/assets/colab-badge.svg\" alt=\"Open In Colab\"/></a>"
      ]
    },
    {
      "cell_type": "code",
      "execution_count": 50,
      "metadata": {
        "id": "ENDBfRa1x1J7"
      },
      "outputs": [],
      "source": [
        "import numpy as np\n",
        "import pandas as pd\n",
        "import matplotlib.pyplot as plt\n",
        "import tensorflow as tf\n",
        "from tensorflow import keras\n",
        "from sklearn.model_selection import train_test_split\n",
        "from sklearn.preprocessing import StandardScaler\n"
      ]
    },
    {
      "cell_type": "code",
      "source": [
        "# dataset_path = keras.utils.get_file('cancer.csv', 'https://github.com/Dr-Carlos-Villasenor/TopicosAvanzadosComputacion2/blob/master/DataSets/cancer.csv')\n",
        "column_names = [\"Clump\",\"UnifSize\",\"UnifShape\",\"MargAdh\",\"SingEpiSize\",\"BareNuc\",\"BlandChrom\",\"NormNucl\",\"Mit\",\"Class\"]\n",
        "_URL = 'https://raw.githubusercontent.com/Dr-Carlos-Villasenor/TopicosAvanzadosComputacion2/master/DataSets/cancer.csv'\n",
        "raw_dataset = pd.read_csv( _URL,names=column_names, na_values = \"?\", comment='\\t',\n",
        "                      sep=\",\", skipinitialspace=True, header=0)\n",
        "dataset = raw_dataset.copy()\n",
        "dataset \n"
      ],
      "metadata": {
        "colab": {
          "base_uri": "https://localhost:8080/",
          "height": 424
        },
        "id": "bgzV92cEyhYn",
        "outputId": "c5fa5b60-c1dd-4b16-946e-175cad7ddb50"
      },
      "execution_count": 110,
      "outputs": [
        {
          "output_type": "execute_result",
          "data": {
            "text/plain": [
              "     Clump  UnifSize  UnifShape  MargAdh  SingEpiSize  BareNuc  BlandChrom  \\\n",
              "0        5         1          1        1            2        1           3   \n",
              "1        5         4          4        5            7       10           3   \n",
              "2        3         1          1        1            2        2           3   \n",
              "3        6         8          8        1            3        4           3   \n",
              "4        4         1          1        3            2        1           3   \n",
              "..     ...       ...        ...      ...          ...      ...         ...   \n",
              "678      3         1          1        1            3        2           1   \n",
              "679      2         1          1        1            2        1           1   \n",
              "680      5        10         10        3            7        3           8   \n",
              "681      4         8          6        4            3        4          10   \n",
              "682      4         8          8        5            4        5          10   \n",
              "\n",
              "     NormNucl  Mit  Class  \n",
              "0           1    1      1  \n",
              "1           2    1      1  \n",
              "2           1    1      1  \n",
              "3           7    1      1  \n",
              "4           1    1      1  \n",
              "..        ...  ...    ...  \n",
              "678         1    1      1  \n",
              "679         1    1      1  \n",
              "680        10    2      0  \n",
              "681         6    1      0  \n",
              "682         4    1      0  \n",
              "\n",
              "[683 rows x 10 columns]"
            ],
            "text/html": [
              "\n",
              "  <div id=\"df-ff3554c8-9a64-465b-a869-936c0514d069\">\n",
              "    <div class=\"colab-df-container\">\n",
              "      <div>\n",
              "<style scoped>\n",
              "    .dataframe tbody tr th:only-of-type {\n",
              "        vertical-align: middle;\n",
              "    }\n",
              "\n",
              "    .dataframe tbody tr th {\n",
              "        vertical-align: top;\n",
              "    }\n",
              "\n",
              "    .dataframe thead th {\n",
              "        text-align: right;\n",
              "    }\n",
              "</style>\n",
              "<table border=\"1\" class=\"dataframe\">\n",
              "  <thead>\n",
              "    <tr style=\"text-align: right;\">\n",
              "      <th></th>\n",
              "      <th>Clump</th>\n",
              "      <th>UnifSize</th>\n",
              "      <th>UnifShape</th>\n",
              "      <th>MargAdh</th>\n",
              "      <th>SingEpiSize</th>\n",
              "      <th>BareNuc</th>\n",
              "      <th>BlandChrom</th>\n",
              "      <th>NormNucl</th>\n",
              "      <th>Mit</th>\n",
              "      <th>Class</th>\n",
              "    </tr>\n",
              "  </thead>\n",
              "  <tbody>\n",
              "    <tr>\n",
              "      <th>0</th>\n",
              "      <td>5</td>\n",
              "      <td>1</td>\n",
              "      <td>1</td>\n",
              "      <td>1</td>\n",
              "      <td>2</td>\n",
              "      <td>1</td>\n",
              "      <td>3</td>\n",
              "      <td>1</td>\n",
              "      <td>1</td>\n",
              "      <td>1</td>\n",
              "    </tr>\n",
              "    <tr>\n",
              "      <th>1</th>\n",
              "      <td>5</td>\n",
              "      <td>4</td>\n",
              "      <td>4</td>\n",
              "      <td>5</td>\n",
              "      <td>7</td>\n",
              "      <td>10</td>\n",
              "      <td>3</td>\n",
              "      <td>2</td>\n",
              "      <td>1</td>\n",
              "      <td>1</td>\n",
              "    </tr>\n",
              "    <tr>\n",
              "      <th>2</th>\n",
              "      <td>3</td>\n",
              "      <td>1</td>\n",
              "      <td>1</td>\n",
              "      <td>1</td>\n",
              "      <td>2</td>\n",
              "      <td>2</td>\n",
              "      <td>3</td>\n",
              "      <td>1</td>\n",
              "      <td>1</td>\n",
              "      <td>1</td>\n",
              "    </tr>\n",
              "    <tr>\n",
              "      <th>3</th>\n",
              "      <td>6</td>\n",
              "      <td>8</td>\n",
              "      <td>8</td>\n",
              "      <td>1</td>\n",
              "      <td>3</td>\n",
              "      <td>4</td>\n",
              "      <td>3</td>\n",
              "      <td>7</td>\n",
              "      <td>1</td>\n",
              "      <td>1</td>\n",
              "    </tr>\n",
              "    <tr>\n",
              "      <th>4</th>\n",
              "      <td>4</td>\n",
              "      <td>1</td>\n",
              "      <td>1</td>\n",
              "      <td>3</td>\n",
              "      <td>2</td>\n",
              "      <td>1</td>\n",
              "      <td>3</td>\n",
              "      <td>1</td>\n",
              "      <td>1</td>\n",
              "      <td>1</td>\n",
              "    </tr>\n",
              "    <tr>\n",
              "      <th>...</th>\n",
              "      <td>...</td>\n",
              "      <td>...</td>\n",
              "      <td>...</td>\n",
              "      <td>...</td>\n",
              "      <td>...</td>\n",
              "      <td>...</td>\n",
              "      <td>...</td>\n",
              "      <td>...</td>\n",
              "      <td>...</td>\n",
              "      <td>...</td>\n",
              "    </tr>\n",
              "    <tr>\n",
              "      <th>678</th>\n",
              "      <td>3</td>\n",
              "      <td>1</td>\n",
              "      <td>1</td>\n",
              "      <td>1</td>\n",
              "      <td>3</td>\n",
              "      <td>2</td>\n",
              "      <td>1</td>\n",
              "      <td>1</td>\n",
              "      <td>1</td>\n",
              "      <td>1</td>\n",
              "    </tr>\n",
              "    <tr>\n",
              "      <th>679</th>\n",
              "      <td>2</td>\n",
              "      <td>1</td>\n",
              "      <td>1</td>\n",
              "      <td>1</td>\n",
              "      <td>2</td>\n",
              "      <td>1</td>\n",
              "      <td>1</td>\n",
              "      <td>1</td>\n",
              "      <td>1</td>\n",
              "      <td>1</td>\n",
              "    </tr>\n",
              "    <tr>\n",
              "      <th>680</th>\n",
              "      <td>5</td>\n",
              "      <td>10</td>\n",
              "      <td>10</td>\n",
              "      <td>3</td>\n",
              "      <td>7</td>\n",
              "      <td>3</td>\n",
              "      <td>8</td>\n",
              "      <td>10</td>\n",
              "      <td>2</td>\n",
              "      <td>0</td>\n",
              "    </tr>\n",
              "    <tr>\n",
              "      <th>681</th>\n",
              "      <td>4</td>\n",
              "      <td>8</td>\n",
              "      <td>6</td>\n",
              "      <td>4</td>\n",
              "      <td>3</td>\n",
              "      <td>4</td>\n",
              "      <td>10</td>\n",
              "      <td>6</td>\n",
              "      <td>1</td>\n",
              "      <td>0</td>\n",
              "    </tr>\n",
              "    <tr>\n",
              "      <th>682</th>\n",
              "      <td>4</td>\n",
              "      <td>8</td>\n",
              "      <td>8</td>\n",
              "      <td>5</td>\n",
              "      <td>4</td>\n",
              "      <td>5</td>\n",
              "      <td>10</td>\n",
              "      <td>4</td>\n",
              "      <td>1</td>\n",
              "      <td>0</td>\n",
              "    </tr>\n",
              "  </tbody>\n",
              "</table>\n",
              "<p>683 rows × 10 columns</p>\n",
              "</div>\n",
              "      <button class=\"colab-df-convert\" onclick=\"convertToInteractive('df-ff3554c8-9a64-465b-a869-936c0514d069')\"\n",
              "              title=\"Convert this dataframe to an interactive table.\"\n",
              "              style=\"display:none;\">\n",
              "        \n",
              "  <svg xmlns=\"http://www.w3.org/2000/svg\" height=\"24px\"viewBox=\"0 0 24 24\"\n",
              "       width=\"24px\">\n",
              "    <path d=\"M0 0h24v24H0V0z\" fill=\"none\"/>\n",
              "    <path d=\"M18.56 5.44l.94 2.06.94-2.06 2.06-.94-2.06-.94-.94-2.06-.94 2.06-2.06.94zm-11 1L8.5 8.5l.94-2.06 2.06-.94-2.06-.94L8.5 2.5l-.94 2.06-2.06.94zm10 10l.94 2.06.94-2.06 2.06-.94-2.06-.94-.94-2.06-.94 2.06-2.06.94z\"/><path d=\"M17.41 7.96l-1.37-1.37c-.4-.4-.92-.59-1.43-.59-.52 0-1.04.2-1.43.59L10.3 9.45l-7.72 7.72c-.78.78-.78 2.05 0 2.83L4 21.41c.39.39.9.59 1.41.59.51 0 1.02-.2 1.41-.59l7.78-7.78 2.81-2.81c.8-.78.8-2.07 0-2.86zM5.41 20L4 18.59l7.72-7.72 1.47 1.35L5.41 20z\"/>\n",
              "  </svg>\n",
              "      </button>\n",
              "      \n",
              "  <style>\n",
              "    .colab-df-container {\n",
              "      display:flex;\n",
              "      flex-wrap:wrap;\n",
              "      gap: 12px;\n",
              "    }\n",
              "\n",
              "    .colab-df-convert {\n",
              "      background-color: #E8F0FE;\n",
              "      border: none;\n",
              "      border-radius: 50%;\n",
              "      cursor: pointer;\n",
              "      display: none;\n",
              "      fill: #1967D2;\n",
              "      height: 32px;\n",
              "      padding: 0 0 0 0;\n",
              "      width: 32px;\n",
              "    }\n",
              "\n",
              "    .colab-df-convert:hover {\n",
              "      background-color: #E2EBFA;\n",
              "      box-shadow: 0px 1px 2px rgba(60, 64, 67, 0.3), 0px 1px 3px 1px rgba(60, 64, 67, 0.15);\n",
              "      fill: #174EA6;\n",
              "    }\n",
              "\n",
              "    [theme=dark] .colab-df-convert {\n",
              "      background-color: #3B4455;\n",
              "      fill: #D2E3FC;\n",
              "    }\n",
              "\n",
              "    [theme=dark] .colab-df-convert:hover {\n",
              "      background-color: #434B5C;\n",
              "      box-shadow: 0px 1px 3px 1px rgba(0, 0, 0, 0.15);\n",
              "      filter: drop-shadow(0px 1px 2px rgba(0, 0, 0, 0.3));\n",
              "      fill: #FFFFFF;\n",
              "    }\n",
              "  </style>\n",
              "\n",
              "      <script>\n",
              "        const buttonEl =\n",
              "          document.querySelector('#df-ff3554c8-9a64-465b-a869-936c0514d069 button.colab-df-convert');\n",
              "        buttonEl.style.display =\n",
              "          google.colab.kernel.accessAllowed ? 'block' : 'none';\n",
              "\n",
              "        async function convertToInteractive(key) {\n",
              "          const element = document.querySelector('#df-ff3554c8-9a64-465b-a869-936c0514d069');\n",
              "          const dataTable =\n",
              "            await google.colab.kernel.invokeFunction('convertToInteractive',\n",
              "                                                     [key], {});\n",
              "          if (!dataTable) return;\n",
              "\n",
              "          const docLinkHtml = 'Like what you see? Visit the ' +\n",
              "            '<a target=\"_blank\" href=https://colab.research.google.com/notebooks/data_table.ipynb>data table notebook</a>'\n",
              "            + ' to learn more about interactive tables.';\n",
              "          element.innerHTML = '';\n",
              "          dataTable['output_type'] = 'display_data';\n",
              "          await google.colab.output.renderOutput(dataTable, element);\n",
              "          const docLink = document.createElement('div');\n",
              "          docLink.innerHTML = docLinkHtml;\n",
              "          element.appendChild(docLink);\n",
              "        }\n",
              "      </script>\n",
              "    </div>\n",
              "  </div>\n",
              "  "
            ]
          },
          "metadata": {},
          "execution_count": 110
        }
      ]
    },
    {
      "cell_type": "code",
      "source": [
        "dataset.dtypes"
      ],
      "metadata": {
        "colab": {
          "base_uri": "https://localhost:8080/"
        },
        "id": "hYc3d-CPOC60",
        "outputId": "00eb02bf-a9fd-43ed-efd6-1eed94fd447e"
      },
      "execution_count": 114,
      "outputs": [
        {
          "output_type": "execute_result",
          "data": {
            "text/plain": [
              "Clump          int64\n",
              "UnifSize       int64\n",
              "UnifShape      int64\n",
              "MargAdh        int64\n",
              "SingEpiSize    int64\n",
              "BareNuc        int64\n",
              "BlandChrom     int64\n",
              "NormNucl       int64\n",
              "Mit            int64\n",
              "Class          int64\n",
              "dtype: object"
            ]
          },
          "metadata": {},
          "execution_count": 114
        }
      ]
    },
    {
      "cell_type": "code",
      "source": [
        "\n",
        "dataset.isna().sum()\n"
      ],
      "metadata": {
        "colab": {
          "base_uri": "https://localhost:8080/"
        },
        "id": "Ta6xcFqCx7hn",
        "outputId": "d6439451-e587-4088-e5db-7ea23a081f46"
      },
      "execution_count": 84,
      "outputs": [
        {
          "output_type": "execute_result",
          "data": {
            "text/plain": [
              "Clump          0\n",
              "UnifSize       0\n",
              "UnifShape      0\n",
              "MargAdh        0\n",
              "SingEpiSize    0\n",
              "BareNuc        0\n",
              "BlandChrom     0\n",
              "NormNucl       0\n",
              "Mit            0\n",
              "Class          0\n",
              "dtype: int64"
            ]
          },
          "metadata": {},
          "execution_count": 84
        }
      ]
    },
    {
      "cell_type": "code",
      "source": [
        "\n",
        "dataset = dataset.dropna()"
      ],
      "metadata": {
        "id": "BklD_XpVyFLL"
      },
      "execution_count": 85,
      "outputs": []
    },
    {
      "cell_type": "code",
      "source": [
        "\n",
        "x = np.asanyarray(dataset.drop(columns=['Class']))\n",
        "y = np.asanyarray(dataset[['Class']])\n",
        "x = StandardScaler().fit_transform(x)\n",
        "print(x.shape)\n",
        "print(y.shape)\n",
        "     "
      ],
      "metadata": {
        "id": "1UuQQr3YyHTG",
        "colab": {
          "base_uri": "https://localhost:8080/"
        },
        "outputId": "26aa5eb5-4569-48b7-879c-f36725ea9e1c"
      },
      "execution_count": 111,
      "outputs": [
        {
          "output_type": "stream",
          "name": "stdout",
          "text": [
            "(683, 9)\n",
            "(683, 1)\n"
          ]
        }
      ]
    },
    {
      "cell_type": "code",
      "source": [
        "x[:5]"
      ],
      "metadata": {
        "colab": {
          "base_uri": "https://localhost:8080/"
        },
        "id": "fluX9_BWL8-L",
        "outputId": "fac466f5-a4ba-45b2-b2af-c331ee992756"
      },
      "execution_count": 112,
      "outputs": [
        {
          "output_type": "execute_result",
          "data": {
            "text/plain": [
              "array([[ 0.19790469, -0.70221201, -0.74177362, -0.63936553, -0.5556085 ,\n",
              "        -0.69885309, -0.18182716, -0.61292736, -0.34839971],\n",
              "       [ 0.19790469,  0.27725185,  0.26278299,  0.75803177,  1.69516613,\n",
              "         1.77286724, -0.18182716, -0.28510482, -0.34839971],\n",
              "       [-0.51164337, -0.70221201, -0.74177362, -0.63936553, -0.5556085 ,\n",
              "        -0.4242175 , -0.18182716, -0.61292736, -0.34839971],\n",
              "       [ 0.55267873,  1.58320366,  1.6021918 , -0.63936553, -0.10545357,\n",
              "         0.12505369, -0.18182716,  1.3540079 , -0.34839971],\n",
              "       [-0.15686934, -0.70221201, -0.74177362,  0.05933312, -0.5556085 ,\n",
              "        -0.69885309, -0.18182716, -0.61292736, -0.34839971]])"
            ]
          },
          "metadata": {},
          "execution_count": 112
        }
      ]
    },
    {
      "cell_type": "code",
      "source": [
        "y[:5]"
      ],
      "metadata": {
        "colab": {
          "base_uri": "https://localhost:8080/"
        },
        "id": "OEdVs3hQMBvE",
        "outputId": "abf886b0-dbb5-477c-f8a4-0e9d0b436d77"
      },
      "execution_count": 113,
      "outputs": [
        {
          "output_type": "execute_result",
          "data": {
            "text/plain": [
              "array([[1],\n",
              "       [1],\n",
              "       [1],\n",
              "       [1],\n",
              "       [1]])"
            ]
          },
          "metadata": {},
          "execution_count": 113
        }
      ]
    },
    {
      "cell_type": "code",
      "source": [
        "\n",
        "xtrain, xtest, ytrain, ytest = train_test_split(x,y,test_size=0.2,\n",
        "                                                random_state=0)"
      ],
      "metadata": {
        "id": "pxq2FM5J8_Ue"
      },
      "execution_count": 104,
      "outputs": []
    },
    {
      "cell_type": "code",
      "source": [
        "def build_model():\n",
        "\n",
        "  model = keras.Sequential()\n",
        "  model.add(keras.layers.Dense(128, kernel_initializer='glorot_uniform', \n",
        "                               activation='relu', input_shape=[x.shape[1]]))\n",
        "  model.add(keras.layers.Dropout(0.2))\n",
        "  model.add(keras.layers.Dense(32, activation='tanh'))\n",
        "  model.add(keras.layers.Dense(1, activation='relu'))\n",
        "\n",
        "  # model.compile(loss='mean_squared_error',optimizer=keras.optimizers.Adam())\n",
        "  model.compile(optimizer='adam', loss='binary_crossentropy', metrics=['accuracy'])\n",
        "  return  model"
      ],
      "metadata": {
        "id": "0iS_0hcZyJYL"
      },
      "execution_count": 132,
      "outputs": []
    },
    {
      "cell_type": "code",
      "source": [
        "\n",
        "model = build_model()\n",
        "model.summary()"
      ],
      "metadata": {
        "colab": {
          "base_uri": "https://localhost:8080/"
        },
        "id": "brc0gbdcyLC-",
        "outputId": "cbdc6d18-b08f-48b4-f1e3-5de196265d0c"
      },
      "execution_count": 133,
      "outputs": [
        {
          "output_type": "stream",
          "name": "stdout",
          "text": [
            "Model: \"sequential_6\"\n",
            "_________________________________________________________________\n",
            " Layer (type)                Output Shape              Param #   \n",
            "=================================================================\n",
            " dense_18 (Dense)            (None, 128)               1280      \n",
            "                                                                 \n",
            " dropout_6 (Dropout)         (None, 128)               0         \n",
            "                                                                 \n",
            " dense_19 (Dense)            (None, 32)                4128      \n",
            "                                                                 \n",
            " dense_20 (Dense)            (None, 1)                 33        \n",
            "                                                                 \n",
            "=================================================================\n",
            "Total params: 5,441\n",
            "Trainable params: 5,441\n",
            "Non-trainable params: 0\n",
            "_________________________________________________________________\n"
          ]
        }
      ]
    },
    {
      "cell_type": "code",
      "source": [
        "# es = keras.callbacks.EarlyStopping(monitor='accuracy', mode='max', patience=20)\n",
        "history = model.fit(xtrain, ytrain,\n",
        "                    batch_size=64, epochs=100, \n",
        "                    validation_split=0.2, verbose=1)"
      ],
      "metadata": {
        "colab": {
          "base_uri": "https://localhost:8080/"
        },
        "id": "w_om8y8vyN0B",
        "outputId": "3c026471-23ab-4e67-f52e-87dd378e771d"
      },
      "execution_count": 138,
      "outputs": [
        {
          "output_type": "stream",
          "name": "stdout",
          "text": [
            "Epoch 1/100\n",
            "7/7 [==============================] - 0s 13ms/step - loss: 0.2097 - accuracy: 0.9610 - val_loss: 0.1499 - val_accuracy: 0.9909\n",
            "Epoch 2/100\n",
            "7/7 [==============================] - 0s 10ms/step - loss: 0.0475 - accuracy: 0.9794 - val_loss: 0.1469 - val_accuracy: 0.9909\n",
            "Epoch 3/100\n",
            "7/7 [==============================] - 0s 7ms/step - loss: 0.0760 - accuracy: 0.9817 - val_loss: 0.1455 - val_accuracy: 0.9909\n",
            "Epoch 4/100\n",
            "7/7 [==============================] - 0s 11ms/step - loss: 0.0929 - accuracy: 0.9725 - val_loss: 0.1450 - val_accuracy: 0.9909\n",
            "Epoch 5/100\n",
            "7/7 [==============================] - 0s 8ms/step - loss: 0.1353 - accuracy: 0.9839 - val_loss: 0.1447 - val_accuracy: 0.9909\n",
            "Epoch 6/100\n",
            "7/7 [==============================] - 0s 8ms/step - loss: 0.1424 - accuracy: 0.9771 - val_loss: 0.1445 - val_accuracy: 0.9909\n",
            "Epoch 7/100\n",
            "7/7 [==============================] - 0s 7ms/step - loss: 0.1243 - accuracy: 0.9748 - val_loss: 0.1473 - val_accuracy: 0.9909\n",
            "Epoch 8/100\n",
            "7/7 [==============================] - 0s 7ms/step - loss: 0.0956 - accuracy: 0.9771 - val_loss: 0.1522 - val_accuracy: 0.9909\n",
            "Epoch 9/100\n",
            "7/7 [==============================] - 0s 8ms/step - loss: 0.0944 - accuracy: 0.9748 - val_loss: 0.1498 - val_accuracy: 0.9909\n",
            "Epoch 10/100\n",
            "7/7 [==============================] - 0s 7ms/step - loss: 0.0788 - accuracy: 0.9748 - val_loss: 0.1474 - val_accuracy: 0.9909\n",
            "Epoch 11/100\n",
            "7/7 [==============================] - 0s 7ms/step - loss: 0.0780 - accuracy: 0.9862 - val_loss: 0.1458 - val_accuracy: 0.9909\n",
            "Epoch 12/100\n",
            "7/7 [==============================] - 0s 8ms/step - loss: 0.1711 - accuracy: 0.9862 - val_loss: 0.1450 - val_accuracy: 0.9909\n",
            "Epoch 13/100\n",
            "7/7 [==============================] - 0s 7ms/step - loss: 0.0779 - accuracy: 0.9817 - val_loss: 0.1447 - val_accuracy: 0.9909\n",
            "Epoch 14/100\n",
            "7/7 [==============================] - 0s 7ms/step - loss: 0.1094 - accuracy: 0.9839 - val_loss: 0.1448 - val_accuracy: 0.9909\n",
            "Epoch 15/100\n",
            "7/7 [==============================] - 0s 8ms/step - loss: 0.0722 - accuracy: 0.9817 - val_loss: 0.1449 - val_accuracy: 0.9909\n",
            "Epoch 16/100\n",
            "7/7 [==============================] - 0s 8ms/step - loss: 0.0760 - accuracy: 0.9817 - val_loss: 0.1448 - val_accuracy: 0.9909\n",
            "Epoch 17/100\n",
            "7/7 [==============================] - 0s 7ms/step - loss: 0.1023 - accuracy: 0.9839 - val_loss: 0.1444 - val_accuracy: 0.9909\n",
            "Epoch 18/100\n",
            "7/7 [==============================] - 0s 7ms/step - loss: 0.0781 - accuracy: 0.9862 - val_loss: 0.1441 - val_accuracy: 0.9909\n",
            "Epoch 19/100\n",
            "7/7 [==============================] - 0s 8ms/step - loss: 0.1100 - accuracy: 0.9771 - val_loss: 0.1445 - val_accuracy: 0.9909\n",
            "Epoch 20/100\n",
            "7/7 [==============================] - 0s 8ms/step - loss: 0.1099 - accuracy: 0.9817 - val_loss: 0.1451 - val_accuracy: 0.9909\n",
            "Epoch 21/100\n",
            "7/7 [==============================] - 0s 8ms/step - loss: 0.0750 - accuracy: 0.9839 - val_loss: 0.1453 - val_accuracy: 0.9909\n",
            "Epoch 22/100\n",
            "7/7 [==============================] - 0s 7ms/step - loss: 0.0972 - accuracy: 0.9702 - val_loss: 0.1449 - val_accuracy: 0.9909\n",
            "Epoch 23/100\n",
            "7/7 [==============================] - 0s 7ms/step - loss: 0.0868 - accuracy: 0.9771 - val_loss: 0.1441 - val_accuracy: 0.9909\n",
            "Epoch 24/100\n",
            "7/7 [==============================] - 0s 8ms/step - loss: 0.1138 - accuracy: 0.9794 - val_loss: 0.1436 - val_accuracy: 0.9909\n",
            "Epoch 25/100\n",
            "7/7 [==============================] - 0s 7ms/step - loss: 0.0786 - accuracy: 0.9794 - val_loss: 0.1436 - val_accuracy: 0.9909\n",
            "Epoch 26/100\n",
            "7/7 [==============================] - 0s 7ms/step - loss: 0.0768 - accuracy: 0.9771 - val_loss: 0.1447 - val_accuracy: 0.9909\n",
            "Epoch 27/100\n",
            "7/7 [==============================] - 0s 8ms/step - loss: 0.0821 - accuracy: 0.9725 - val_loss: 0.1456 - val_accuracy: 0.9909\n",
            "Epoch 28/100\n",
            "7/7 [==============================] - 0s 7ms/step - loss: 0.0727 - accuracy: 0.9771 - val_loss: 0.1463 - val_accuracy: 0.9909\n",
            "Epoch 29/100\n",
            "7/7 [==============================] - 0s 10ms/step - loss: 0.0782 - accuracy: 0.9817 - val_loss: 0.1475 - val_accuracy: 0.9909\n",
            "Epoch 30/100\n",
            "7/7 [==============================] - 0s 10ms/step - loss: 0.1103 - accuracy: 0.9862 - val_loss: 0.1492 - val_accuracy: 0.9909\n",
            "Epoch 31/100\n",
            "7/7 [==============================] - 0s 7ms/step - loss: 0.1159 - accuracy: 0.9817 - val_loss: 0.1494 - val_accuracy: 0.9909\n",
            "Epoch 32/100\n",
            "7/7 [==============================] - 0s 9ms/step - loss: 0.0728 - accuracy: 0.9862 - val_loss: 0.1504 - val_accuracy: 0.9909\n",
            "Epoch 33/100\n",
            "7/7 [==============================] - 0s 7ms/step - loss: 0.1114 - accuracy: 0.9771 - val_loss: 0.1510 - val_accuracy: 0.9909\n",
            "Epoch 34/100\n",
            "7/7 [==============================] - 0s 7ms/step - loss: 0.1179 - accuracy: 0.9725 - val_loss: 0.1502 - val_accuracy: 0.9909\n",
            "Epoch 35/100\n",
            "7/7 [==============================] - 0s 9ms/step - loss: 0.0788 - accuracy: 0.9862 - val_loss: 0.1476 - val_accuracy: 0.9909\n",
            "Epoch 36/100\n",
            "7/7 [==============================] - 0s 7ms/step - loss: 0.0685 - accuracy: 0.9817 - val_loss: 0.1463 - val_accuracy: 0.9909\n",
            "Epoch 37/100\n",
            "7/7 [==============================] - 0s 7ms/step - loss: 0.0750 - accuracy: 0.9885 - val_loss: 0.1474 - val_accuracy: 0.9909\n",
            "Epoch 38/100\n",
            "7/7 [==============================] - 0s 8ms/step - loss: 0.1126 - accuracy: 0.9839 - val_loss: 0.1503 - val_accuracy: 0.9909\n",
            "Epoch 39/100\n",
            "7/7 [==============================] - 0s 7ms/step - loss: 0.0676 - accuracy: 0.9885 - val_loss: 0.1516 - val_accuracy: 0.9909\n",
            "Epoch 40/100\n",
            "7/7 [==============================] - 0s 7ms/step - loss: 0.0746 - accuracy: 0.9817 - val_loss: 0.1505 - val_accuracy: 0.9909\n",
            "Epoch 41/100\n",
            "7/7 [==============================] - 0s 7ms/step - loss: 0.0654 - accuracy: 0.9862 - val_loss: 0.1493 - val_accuracy: 0.9909\n",
            "Epoch 42/100\n",
            "7/7 [==============================] - 0s 7ms/step - loss: 0.0753 - accuracy: 0.9817 - val_loss: 0.1484 - val_accuracy: 0.9909\n",
            "Epoch 43/100\n",
            "7/7 [==============================] - 0s 8ms/step - loss: 0.0717 - accuracy: 0.9817 - val_loss: 0.1483 - val_accuracy: 0.9909\n",
            "Epoch 44/100\n",
            "7/7 [==============================] - 0s 7ms/step - loss: 0.0761 - accuracy: 0.9817 - val_loss: 0.1485 - val_accuracy: 0.9909\n",
            "Epoch 45/100\n",
            "7/7 [==============================] - 0s 8ms/step - loss: 0.0712 - accuracy: 0.9771 - val_loss: 0.1480 - val_accuracy: 0.9909\n",
            "Epoch 46/100\n",
            "7/7 [==============================] - 0s 7ms/step - loss: 0.1160 - accuracy: 0.9725 - val_loss: 0.1466 - val_accuracy: 0.9909\n",
            "Epoch 47/100\n",
            "7/7 [==============================] - 0s 9ms/step - loss: 0.0718 - accuracy: 0.9839 - val_loss: 0.1469 - val_accuracy: 0.9909\n",
            "Epoch 48/100\n",
            "7/7 [==============================] - 0s 7ms/step - loss: 0.1056 - accuracy: 0.9817 - val_loss: 0.1476 - val_accuracy: 0.9909\n",
            "Epoch 49/100\n",
            "7/7 [==============================] - 0s 8ms/step - loss: 0.0789 - accuracy: 0.9839 - val_loss: 0.1479 - val_accuracy: 0.9909\n",
            "Epoch 50/100\n",
            "7/7 [==============================] - 0s 7ms/step - loss: 0.0727 - accuracy: 0.9839 - val_loss: 0.1474 - val_accuracy: 0.9909\n",
            "Epoch 51/100\n",
            "7/7 [==============================] - 0s 7ms/step - loss: 0.0867 - accuracy: 0.9702 - val_loss: 0.1476 - val_accuracy: 0.9909\n",
            "Epoch 52/100\n",
            "7/7 [==============================] - 0s 12ms/step - loss: 0.1028 - accuracy: 0.9771 - val_loss: 0.1487 - val_accuracy: 0.9909\n",
            "Epoch 53/100\n",
            "7/7 [==============================] - 0s 7ms/step - loss: 0.1050 - accuracy: 0.9794 - val_loss: 0.1502 - val_accuracy: 0.9909\n",
            "Epoch 54/100\n",
            "7/7 [==============================] - 0s 8ms/step - loss: 0.1078 - accuracy: 0.9862 - val_loss: 0.1512 - val_accuracy: 0.9909\n",
            "Epoch 55/100\n",
            "7/7 [==============================] - 0s 8ms/step - loss: 0.0730 - accuracy: 0.9794 - val_loss: 0.1516 - val_accuracy: 0.9909\n",
            "Epoch 56/100\n",
            "7/7 [==============================] - 0s 9ms/step - loss: 0.1375 - accuracy: 0.9817 - val_loss: 0.1489 - val_accuracy: 0.9909\n",
            "Epoch 57/100\n",
            "7/7 [==============================] - 0s 7ms/step - loss: 0.0822 - accuracy: 0.9817 - val_loss: 0.1494 - val_accuracy: 0.9909\n",
            "Epoch 58/100\n",
            "7/7 [==============================] - 0s 7ms/step - loss: 0.0698 - accuracy: 0.9817 - val_loss: 0.1558 - val_accuracy: 0.9818\n",
            "Epoch 59/100\n",
            "7/7 [==============================] - 0s 9ms/step - loss: 0.1096 - accuracy: 0.9748 - val_loss: 0.1553 - val_accuracy: 0.9818\n",
            "Epoch 60/100\n",
            "7/7 [==============================] - 0s 8ms/step - loss: 0.0737 - accuracy: 0.9817 - val_loss: 0.1517 - val_accuracy: 0.9909\n",
            "Epoch 61/100\n",
            "7/7 [==============================] - 0s 7ms/step - loss: 0.0793 - accuracy: 0.9794 - val_loss: 0.1463 - val_accuracy: 0.9909\n",
            "Epoch 62/100\n",
            "7/7 [==============================] - 0s 8ms/step - loss: 0.1100 - accuracy: 0.9771 - val_loss: 0.1447 - val_accuracy: 0.9909\n",
            "Epoch 63/100\n",
            "7/7 [==============================] - 0s 7ms/step - loss: 0.0731 - accuracy: 0.9817 - val_loss: 0.1447 - val_accuracy: 0.9909\n",
            "Epoch 64/100\n",
            "7/7 [==============================] - 0s 11ms/step - loss: 0.0780 - accuracy: 0.9794 - val_loss: 0.1456 - val_accuracy: 0.9909\n",
            "Epoch 65/100\n",
            "7/7 [==============================] - 0s 8ms/step - loss: 0.0806 - accuracy: 0.9817 - val_loss: 0.1473 - val_accuracy: 0.9909\n",
            "Epoch 66/100\n",
            "7/7 [==============================] - 0s 7ms/step - loss: 0.0655 - accuracy: 0.9839 - val_loss: 0.1479 - val_accuracy: 0.9909\n",
            "Epoch 67/100\n",
            "7/7 [==============================] - 0s 11ms/step - loss: 0.0701 - accuracy: 0.9817 - val_loss: 0.1480 - val_accuracy: 0.9909\n",
            "Epoch 68/100\n",
            "7/7 [==============================] - 0s 7ms/step - loss: 0.0781 - accuracy: 0.9748 - val_loss: 0.1497 - val_accuracy: 0.9909\n",
            "Epoch 69/100\n",
            "7/7 [==============================] - 0s 8ms/step - loss: 0.0625 - accuracy: 0.9885 - val_loss: 0.1502 - val_accuracy: 0.9909\n",
            "Epoch 70/100\n",
            "7/7 [==============================] - 0s 8ms/step - loss: 0.0872 - accuracy: 0.9771 - val_loss: 0.1496 - val_accuracy: 0.9909\n",
            "Epoch 71/100\n",
            "7/7 [==============================] - 0s 8ms/step - loss: 0.1059 - accuracy: 0.9794 - val_loss: 0.1477 - val_accuracy: 0.9909\n",
            "Epoch 72/100\n",
            "7/7 [==============================] - 0s 8ms/step - loss: 0.0748 - accuracy: 0.9794 - val_loss: 0.1470 - val_accuracy: 0.9909\n",
            "Epoch 73/100\n",
            "7/7 [==============================] - 0s 7ms/step - loss: 0.0752 - accuracy: 0.9794 - val_loss: 0.1475 - val_accuracy: 0.9909\n",
            "Epoch 74/100\n",
            "7/7 [==============================] - 0s 8ms/step - loss: 0.0655 - accuracy: 0.9839 - val_loss: 0.1474 - val_accuracy: 0.9909\n",
            "Epoch 75/100\n",
            "7/7 [==============================] - 0s 8ms/step - loss: 0.0724 - accuracy: 0.9771 - val_loss: 0.1466 - val_accuracy: 0.9909\n",
            "Epoch 76/100\n",
            "7/7 [==============================] - 0s 7ms/step - loss: 0.0751 - accuracy: 0.9771 - val_loss: 0.1465 - val_accuracy: 0.9909\n",
            "Epoch 77/100\n",
            "7/7 [==============================] - 0s 8ms/step - loss: 0.0791 - accuracy: 0.9794 - val_loss: 0.1475 - val_accuracy: 0.9909\n",
            "Epoch 78/100\n",
            "7/7 [==============================] - 0s 7ms/step - loss: 0.0737 - accuracy: 0.9794 - val_loss: 0.1488 - val_accuracy: 0.9909\n",
            "Epoch 79/100\n",
            "7/7 [==============================] - 0s 8ms/step - loss: 0.0760 - accuracy: 0.9771 - val_loss: 0.1508 - val_accuracy: 0.9909\n",
            "Epoch 80/100\n",
            "7/7 [==============================] - 0s 8ms/step - loss: 0.0696 - accuracy: 0.9839 - val_loss: 0.1521 - val_accuracy: 0.9909\n",
            "Epoch 81/100\n",
            "7/7 [==============================] - 0s 7ms/step - loss: 0.0670 - accuracy: 0.9839 - val_loss: 0.1520 - val_accuracy: 0.9909\n",
            "Epoch 82/100\n",
            "7/7 [==============================] - 0s 10ms/step - loss: 0.0632 - accuracy: 0.9931 - val_loss: 0.1490 - val_accuracy: 0.9909\n",
            "Epoch 83/100\n",
            "7/7 [==============================] - 0s 7ms/step - loss: 0.1129 - accuracy: 0.9748 - val_loss: 0.1469 - val_accuracy: 0.9909\n",
            "Epoch 84/100\n",
            "7/7 [==============================] - 0s 12ms/step - loss: 0.0733 - accuracy: 0.9839 - val_loss: 0.1454 - val_accuracy: 0.9909\n",
            "Epoch 85/100\n",
            "7/7 [==============================] - 0s 8ms/step - loss: 0.1022 - accuracy: 0.9771 - val_loss: 0.1457 - val_accuracy: 0.9909\n",
            "Epoch 86/100\n",
            "7/7 [==============================] - 0s 10ms/step - loss: 0.0745 - accuracy: 0.9748 - val_loss: 0.1488 - val_accuracy: 0.9909\n",
            "Epoch 87/100\n",
            "7/7 [==============================] - 0s 14ms/step - loss: 0.0649 - accuracy: 0.9862 - val_loss: 0.1493 - val_accuracy: 0.9909\n",
            "Epoch 88/100\n",
            "7/7 [==============================] - 0s 8ms/step - loss: 0.0692 - accuracy: 0.9839 - val_loss: 0.1494 - val_accuracy: 0.9909\n",
            "Epoch 89/100\n",
            "7/7 [==============================] - 0s 7ms/step - loss: 0.0633 - accuracy: 0.9885 - val_loss: 0.1481 - val_accuracy: 0.9909\n",
            "Epoch 90/100\n",
            "7/7 [==============================] - 0s 8ms/step - loss: 0.0605 - accuracy: 0.9908 - val_loss: 0.1466 - val_accuracy: 0.9909\n",
            "Epoch 91/100\n",
            "7/7 [==============================] - 0s 7ms/step - loss: 0.0645 - accuracy: 0.9817 - val_loss: 0.1460 - val_accuracy: 0.9909\n",
            "Epoch 92/100\n",
            "7/7 [==============================] - 0s 11ms/step - loss: 0.0655 - accuracy: 0.9839 - val_loss: 0.1461 - val_accuracy: 0.9909\n",
            "Epoch 93/100\n",
            "7/7 [==============================] - 0s 7ms/step - loss: 0.0702 - accuracy: 0.9839 - val_loss: 0.1485 - val_accuracy: 0.9909\n",
            "Epoch 94/100\n",
            "7/7 [==============================] - 0s 7ms/step - loss: 0.0773 - accuracy: 0.9771 - val_loss: 0.1470 - val_accuracy: 0.9909\n",
            "Epoch 95/100\n",
            "7/7 [==============================] - 0s 9ms/step - loss: 0.0948 - accuracy: 0.9908 - val_loss: 0.1437 - val_accuracy: 0.9909\n",
            "Epoch 96/100\n",
            "7/7 [==============================] - 0s 8ms/step - loss: 0.0631 - accuracy: 0.9862 - val_loss: 0.1436 - val_accuracy: 0.9909\n",
            "Epoch 97/100\n",
            "7/7 [==============================] - 0s 8ms/step - loss: 0.0609 - accuracy: 0.9839 - val_loss: 0.1443 - val_accuracy: 0.9909\n",
            "Epoch 98/100\n",
            "7/7 [==============================] - 0s 9ms/step - loss: 0.1388 - accuracy: 0.9771 - val_loss: 0.1477 - val_accuracy: 0.9909\n",
            "Epoch 99/100\n",
            "7/7 [==============================] - 0s 7ms/step - loss: 0.0628 - accuracy: 0.9862 - val_loss: 0.1489 - val_accuracy: 0.9909\n",
            "Epoch 100/100\n",
            "7/7 [==============================] - 0s 9ms/step - loss: 0.0755 - accuracy: 0.9748 - val_loss: 0.1483 - val_accuracy: 0.9909\n"
          ]
        }
      ]
    },
    {
      "cell_type": "code",
      "source": [
        "def plot_history(history):\n",
        "  hist = pd.DataFrame(history.history)\n",
        "  hist['epoch'] = history.epoch\n",
        "  plt.figure()\n",
        "  plt.title('Loss vs Iterations')\n",
        "  plt.xlabel('Epoch')\n",
        "  plt.ylabel('Loss')\n",
        "  plt.plot(hist['epoch'], hist['loss'],\n",
        "           label='Train Error')\n",
        "  plt.plot(hist['epoch'], hist['val_loss'],\n",
        "           label = 'Val Error')\n",
        "  plt.ylim([0,6])\n",
        "  plt.legend()\n",
        "\n",
        "plot_history(history)"
      ],
      "metadata": {
        "colab": {
          "base_uri": "https://localhost:8080/",
          "height": 295
        },
        "id": "fy1BJGX_JmOs",
        "outputId": "fa2413c4-6f5f-48e7-c1c8-aa83079c8a00"
      },
      "execution_count": 127,
      "outputs": [
        {
          "output_type": "display_data",
          "data": {
            "text/plain": [
              "<Figure size 432x288 with 1 Axes>"
            ],
            "image/png": "[encoded data removed]"
          },
          "metadata": {
            "needs_background": "light"
          }
        }
      ]
    },
    {
      "cell_type": "code",
      "source": [
        "score = model.evaluate(xtest, ytest)"
      ],
      "metadata": {
        "colab": {
          "base_uri": "https://localhost:8080/"
        },
        "id": "u6Z1tfybSKXf",
        "outputId": "68dbb066-a3c8-45a6-e42d-2125e61f8eb8"
      },
      "execution_count": 128,
      "outputs": [
        {
          "output_type": "stream",
          "name": "stdout",
          "text": [
            "5/5 [==============================] - 0s 5ms/step - loss: 0.3650 - accuracy: 0.9708\n"
          ]
        }
      ]
    }
  ]
}